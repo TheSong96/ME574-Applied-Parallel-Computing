{
 "cells": [
  {
   "cell_type": "markdown",
   "metadata": {
    "slideshow": {
     "slide_type": "fragment"
    }
   },
   "source": [
    "### ME 574 Winter 2019 Homework 4:  Due Tuesday 26 February 2019\n",
    "\n",
    "Submit your work by uploading a Jupyter notebook via Canvas.\n",
    "Make sure that executing your notebook produces the intended results!"
   ]
  },
  {
   "cell_type": "markdown",
   "metadata": {},
   "source": [
    "1) Consider the integral $I = \\int_{0}^{1} \\frac{dx}{x^2 + 1}$ that was previously treated in Homework 2. \n",
    "\n",
    "a) Create a shared memory implementation of Simpson's rule to evaluate $I$. \n",
    "\n",
    "b) Verify that the output agrees with that of your previous serial evaluation (with corresponding grid spacing $h$).\n",
    "\n",
    "c) Present a plot of computation times for serial, parallel (using global memory), and parallel (using shared memory) evaluation as a function of $h$. Briefly discuss the salient features of your results.\n",
    "\n",
    "***"
   ]
  },
  {
   "cell_type": "markdown",
   "metadata": {},
   "source": [
    "2) Read the first notebook __\"Introduction to numerical solution of PDEs\"__  from lesson 2 __\"Space & Time\"__ of the Numerical Methods MOOC by Barba et al.\n",
    "\n",
    "a) Consider the following code from Part 1\n",
    "```python\n",
    "u = u0.copy()\n",
    "for n in range(1, nt):\n",
    "    un = u.copy()\n",
    "    for i in range(1, nx):\n",
    "        u[i] = un[i] - c * dt / dx * (un[i] - un[i - 1])\n",
    "```\n",
    "Identify the `for` loop that is a candidate for parallelization. Explain your choice and implement code to parallelize it.\n",
    "\n",
    "b) Use your parallel code (together with the code for producting the plot) to answer the question under the first ___Dig Deeper___ heading: Does reducing the stepsize recover the shape of the square-wave input?\n",
    "\n",
    "c) Modify your parallel code to include non-linear convection to model the 1D convection equation:\n",
    "$\\frac{\\partial u}{\\partial t} + u \\frac{\\partial u}{\\partial x} = 0$\n",
    "<br>Execute your code to re-create the figure above the second ___Dig Deeper___ heading.\n",
    "\n",
    "***"
   ]
  },
  {
   "cell_type": "markdown",
   "metadata": {},
   "source": [
    "3) Read the first notebook __\"Stability and the CFL condition\"__  from lesson 2 __\"Space & Time\"__ of the Numerical Methods MOOC by Barba et al.\n",
    "\n",
    "a) Implement a revised version of the `linear_convection()` function that performs one timestep in parallel. \n",
    "<br>Test your code by creating plots of `linear_convection(65)` and `linear_convection(129)`.\n",
    "\n",
    "b) Carefully read the __\"What Happened?\"__ section, then combine your parallel timestep code with the ___defensively written___ code implementing the CFL condition.\n",
    "<br>Execute your resulting code to create a plot of `linear_convection(129)`. Briefly compare and contrast this result from the corresponding plot you produced for part a.\n",
    "\n",
    "***"
   ]
  },
  {
   "cell_type": "markdown",
   "metadata": {},
   "source": [
    "4) Consider the second order nonlinear ordinary differential equation $x'' -\\epsilon (1 -x^2) x' + x = 0$ for some value of $\\epsilon$ such that $0.1 < \\epsilon < 2$.\n",
    "\n",
    "a) Re-write the ODE as a system of first order ODEs for $x(t)$ and $v = x' = \\frac{dx(t)}{dt}$, and immplement a 4th order Runge-Kutta (RK4) ODE solver to simulate your first order system. \n",
    "<br>Test your solve by computing (and plotting) the solution corresponding to the initial conditions $x(0) = 1, v(0) = 0$ on the interval $0 < t < 30$. Plot both $x(t)$ vs. $t$ and the \"phase plane\" version $y(t)$ vs. $x(t)$.\n",
    "\n",
    "b) Write the necessary code to launch and execute a parallel kernel to compute the change in $x$ and $v$ during ONE time step of the solution for a 2D grid of initial values $x, v \\in [-4,4]$. \n",
    "<br>Plot your results as a phase portrait using `matplotlib`'s `quiver` function. \n",
    "<br>Briefly discuss how your phase portrait relates to your plots of $x(t)$ from part b."
   ]
  }
 ],
 "metadata": {
  "kernelspec": {
   "display_name": "Python 3",
   "language": "python",
   "name": "python3"
  },
  "language_info": {
   "codemirror_mode": {
    "name": "ipython",
    "version": 3
   },
   "file_extension": ".py",
   "mimetype": "text/x-python",
   "name": "python",
   "nbconvert_exporter": "python",
   "pygments_lexer": "ipython3",
   "version": "3.7.1"
  }
 },
 "nbformat": 4,
 "nbformat_minor": 2
}
