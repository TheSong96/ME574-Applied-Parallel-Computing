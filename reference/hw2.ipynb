{
 "cells": [
  {
   "cell_type": "markdown",
   "metadata": {},
   "source": [
    "### ME 574 Winter 2019 Homework 2  \n",
    "Solution by Jingyuan Liu"
   ]
  },
  {
   "cell_type": "markdown",
   "metadata": {},
   "source": [
    "**1) Write python code to compute and print machine $\\epsilon$ (for CPU computations). Take the following approach: Write a ```for()``` loop to compute $\\epsilon_n = 0.5^n$ for increasing integer values of $n$ up to a default limit of ```N_MAX = 100```. When $1. == 1. + \\epsilon_n$, store the values of $n$ and $\\epsilon_n$ terminate the computation.**"
   ]
  },
  {
   "cell_type": "code",
   "execution_count": 1,
   "metadata": {},
   "outputs": [],
   "source": [
    "import numpy as np\n",
    "from numba import cuda\n",
    "import matplotlib.pyplot as plt\n",
    "%matplotlib inline"
   ]
  },
  {
   "cell_type": "code",
   "execution_count": 3,
   "metadata": {},
   "outputs": [
    {
     "name": "stdout",
     "output_type": "stream",
     "text": [
      "53 1.1102230246251565e-16\n"
     ]
    }
   ],
   "source": [
    "for i in range(101):\n",
    "    epsilon = 0.5**i\n",
    "    if 1. == (1.+epsilon):\n",
    "        print(i, epsilon)\n",
    "        break"
   ]
  },
  {
   "cell_type": "markdown",
   "metadata": {},
   "source": [
    "**2) This is the parallelized version of problem 1. Write  the following python code using ```numba```:  \n",
    "a) Write a device function to compute $0.5^n$.**"
   ]
  },
  {
   "cell_type": "code",
   "execution_count": 5,
   "metadata": {},
   "outputs": [],
   "source": [
    "@cuda.jit(device=True)\n",
    "def power_of_half(n):\n",
    "    return 0.5**n"
   ]
  },
  {
   "cell_type": "markdown",
   "metadata": {},
   "source": [
    "**b) Write a kernel function that computes a `numpy` array of powers of $0.5$ by calling your device function.**"
   ]
  },
  {
   "cell_type": "code",
   "execution_count": 6,
   "metadata": {},
   "outputs": [],
   "source": [
    "@cuda.jit\n",
    "def kernel(d_out, d_n):\n",
    "    size = d_n.size\n",
    "    i = cuda.grid(1)\n",
    "    if i < size:\n",
    "        d_out[i] = power_of_half(d_n[i])"
   ]
  },
  {
   "cell_type": "markdown",
   "metadata": {},
   "source": [
    "**c) Write a wrapper function to set up and launch the kernel**"
   ]
  },
  {
   "cell_type": "code",
   "execution_count": 7,
   "metadata": {},
   "outputs": [],
   "source": [
    "def wrapper(n):\n",
    "    d_n = cuda.to_device(n)\n",
    "    d_out = cuda.device_array(n.size)\n",
    "    TPB = 32\n",
    "    BPG = (n.size-1)//TPB + 1\n",
    "    kernel[BPG, TPB](d_out, d_n)\n",
    "    return d_out.copy_to_host()"
   ]
  },
  {
   "cell_type": "markdown",
   "metadata": {},
   "source": [
    "**d) Write a ```main()``` function that creates the ```numpy``` array, calls the wrapper function, and determines (and prints) the index and value corresponding to machine $\\epsilon$.**"
   ]
  },
  {
   "cell_type": "code",
   "execution_count": 8,
   "metadata": {},
   "outputs": [],
   "source": [
    "def main():\n",
    "    n = np.arange(101) # array of n\n",
    "    out = wrapper(n)\n",
    "    for i, epsilon in enumerate(out):\n",
    "        if 1. == (1.+epsilon):\n",
    "            print(i, epsilon)\n",
    "            break"
   ]
  },
  {
   "cell_type": "markdown",
   "metadata": {},
   "source": [
    "**e) Execute your ```main()``` function to produce a value of machine $\\epsilon$ computed on the GPU.**"
   ]
  },
  {
   "cell_type": "code",
   "execution_count": 9,
   "metadata": {},
   "outputs": [
    {
     "name": "stdout",
     "output_type": "stream",
     "text": [
      "53 1.1102230246251565e-16\n"
     ]
    }
   ],
   "source": [
    "main()"
   ]
  },
  {
   "cell_type": "markdown",
   "metadata": {},
   "source": [
    "**f) Modify your code (specifically the definition of your ```numpy``` array using the optional ```dtype``` argument) to use 32-bit data (instead of 64-bit) floating point numbers. Re-execute ```main()``` and discuss how the new 32-bit result compares withe 64-bit version.**"
   ]
  },
  {
   "cell_type": "markdown",
   "metadata": {},
   "source": [
    "If we only use 32-bit for the epsilon array `d_out`:"
   ]
  },
  {
   "cell_type": "code",
   "execution_count": 10,
   "metadata": {},
   "outputs": [],
   "source": [
    "def wrapper(n):\n",
    "    d_n = cuda.to_device(n)\n",
    "    d_out = cuda.device_array(n.size, dtype=np.float32)\n",
    "    TPB = 32\n",
    "    BPG = (n.size-1)//TPB + 1\n",
    "    kernel[BPG, TPB](d_out, d_n)\n",
    "    return d_out.copy_to_host()"
   ]
  },
  {
   "cell_type": "code",
   "execution_count": 11,
   "metadata": {},
   "outputs": [
    {
     "name": "stdout",
     "output_type": "stream",
     "text": [
      "53 1.110223e-16\n"
     ]
    }
   ],
   "source": [
    "main()"
   ]
  },
  {
   "cell_type": "markdown",
   "metadata": {},
   "source": [
    "The result is still $n = 53$. However, as for $\\epsilon$, the first couple digits are the same, but the number of accurate digits is obviously less than before. This is due to the limited range a single precision number can represent."
   ]
  },
  {
   "cell_type": "markdown",
   "metadata": {},
   "source": [
    "If we further use 32-bit for the $1.$:"
   ]
  },
  {
   "cell_type": "code",
   "execution_count": 12,
   "metadata": {},
   "outputs": [],
   "source": [
    "def main():\n",
    "    n = np.arange(101) # array of n\n",
    "    out = wrapper(n)\n",
    "    one = np.array([1.], dtype=np.float32)\n",
    "    for i, epsilon in enumerate(out):\n",
    "        if one[0] == (one[0]+epsilon):\n",
    "            print(i, epsilon)\n",
    "            break"
   ]
  },
  {
   "cell_type": "code",
   "execution_count": 13,
   "metadata": {},
   "outputs": [
    {
     "name": "stdout",
     "output_type": "stream",
     "text": [
      "24 5.9604645e-08\n"
     ]
    }
   ],
   "source": [
    "main()"
   ]
  },
  {
   "cell_type": "markdown",
   "metadata": {},
   "source": [
    "We see that both $n$ and $\\epsilon$ have changed. The reason is the same as stated above, the range limit of single precision compared to double."
   ]
  },
  {
   "cell_type": "markdown",
   "metadata": {},
   "source": [
    "**g) Modify your code so that the test for identifying the exponent & value and the print statement are done in parallel in the kernel function. Discuss the order in which results are printed.**"
   ]
  },
  {
   "cell_type": "code",
   "execution_count": 29,
   "metadata": {},
   "outputs": [],
   "source": [
    "@cuda.jit\n",
    "def kernel(d_n):\n",
    "    size = d_n.size\n",
    "    i = cuda.grid(1)\n",
    "    if i < size:\n",
    "        epsilon = power_of_half(d_n[i])\n",
    "        if 1. == (1.+epsilon):\n",
    "            print(i, epsilon)"
   ]
  },
  {
   "cell_type": "code",
   "execution_count": 30,
   "metadata": {},
   "outputs": [],
   "source": [
    "def wrapper(n):\n",
    "    d_n = cuda.to_device(n)\n",
    "    TPB = 32\n",
    "    BPG = (n.size-1)//TPB + 1\n",
    "    kernel[BPG, TPB](d_n)"
   ]
  },
  {
   "cell_type": "code",
   "execution_count": 31,
   "metadata": {},
   "outputs": [],
   "source": [
    "def main():\n",
    "    n = np.arange(101) # array of n\n",
    "    wrapper(n)"
   ]
  },
  {
   "cell_type": "code",
   "execution_count": 33,
   "metadata": {},
   "outputs": [],
   "source": [
    "main()"
   ]
  },
  {
   "cell_type": "markdown",
   "metadata": {},
   "source": [
    "The printed results: (have line break in console)  \n",
    "96 0.000000\n",
    "97 0.000000\n",
    "98 0.000000\n",
    "99 0.000000\n",
    "100 0.000000\n",
    "53 0.000000\n",
    "54 0.000000\n",
    "55 0.000000\n",
    "56 0.000000\n",
    "57 0.000000\n",
    "58 0.000000\n",
    "59 0.000000\n",
    "60 0.000000\n",
    "61 0.000000\n",
    "62 0.000000\n",
    "63 0.000000\n",
    "64 0.000000\n",
    "65 0.000000\n",
    "66 0.000000\n",
    "67 0.000000\n",
    "68 0.000000\n",
    "69 0.000000\n",
    "70 0.000000\n",
    "71 0.000000\n",
    "72 0.000000\n",
    "73 0.000000\n",
    "74 0.000000\n",
    "75 0.000000\n",
    "76 0.000000\n",
    "77 0.000000\n",
    "78 0.000000\n",
    "79 0.000000\n",
    "80 0.000000\n",
    "81 0.000000\n",
    "82 0.000000\n",
    "83 0.000000\n",
    "84 0.000000\n",
    "85 0.000000\n",
    "86 0.000000\n",
    "87 0.000000\n",
    "88 0.000000\n",
    "89 0.000000\n",
    "90 0.000000\n",
    "91 0.000000\n",
    "92 0.000000\n",
    "93 0.000000\n",
    "94 0.000000\n",
    "95 0.000000"
   ]
  },
  {
   "cell_type": "markdown",
   "metadata": {},
   "source": [
    "The results are not printed in monotonic order of $n$, as all threads are parallel and have no specific order when running."
   ]
  },
  {
   "cell_type": "markdown",
   "metadata": {},
   "source": [
    "However, I run multiple times and find that the output is the same every time. I change `TPB` and `BPG` and try to reproduce the random results demonstrated in class. I find that indices within one block seem always ordered, while the order is indeed random among different blocks. I think if this behavior is normal, it has to do with hardware structure and efficiency."
   ]
  },
  {
   "cell_type": "markdown",
   "metadata": {},
   "source": [
    "**h) THINK ABOUT THIS PART, BUT DO NOT DO IT. WE WILL RETURN TO THIS ISSUE LATER... Finally modify your code from part f so the kernel saves the exponent and value to named variables, and the ouput is a single line giving the exponent and value corresponding to machine $\\epsilon$.**"
   ]
  },
  {
   "cell_type": "markdown",
   "metadata": {},
   "source": [
    "**3) This problem deals with the difference equation corresponding to Newton's method applied to the function $f(x) = x (x^2-1)$.  \n",
    "a) Determine the difference equation (you can do this by hand) and write a python function that takes an initial value of $x_n$ and computes the next iterate $x_{n+1}$.**"
   ]
  },
  {
   "cell_type": "markdown",
   "metadata": {},
   "source": [
    "We use first order approximation from Taylor Series $$f(x_{n+1}) \\approx f(x_n) + f'(x_n)(x_{n+1}-x_n)$$  \n",
    "We want $f(x_{n+1}) = 0$, so we get $$0 = f(x_n) + f'(x_n)(x_{n+1}-x_n)$$  \n",
    "which then gives us $$x_{n+1} = x_n - \\frac{f(x_n)}{f'(x_n)}$$  \n",
    "In this case where $f(x) = x (x^2-1)$,  we have $$x_{n+1} = x_n - \\frac{x_n^3-x_n}{3x_n^2-1}$$"
   ]
  },
  {
   "cell_type": "code",
   "execution_count": 34,
   "metadata": {},
   "outputs": [],
   "source": [
    "def newton_one_iter(x):\n",
    "    return x - (x**3-x)/(3*x**2-1)"
   ]
  },
  {
   "cell_type": "markdown",
   "metadata": {},
   "source": [
    "**b) Write python code using a ```for()``` loop to compute a sequence of iterates subject to termination criteria including a desired tolerance and a maximum iteration count.**"
   ]
  },
  {
   "cell_type": "code",
   "execution_count": 52,
   "metadata": {},
   "outputs": [],
   "source": [
    "def newton(x0, tol, max_iter):\n",
    "    x1 = 0\n",
    "    for i in range(max_iter):\n",
    "        x1 = newton_one_iter(x0)\n",
    "        if np.abs(x1-x0) < tol:\n",
    "            break\n",
    "        x0 = x1\n",
    "    return x1"
   ]
  },
  {
   "cell_type": "markdown",
   "metadata": {},
   "source": [
    "**c) Choose a few initial values and compute/plot the sequence of iterates. Illustrate each of the following cases:**\n",
    "\n",
    "    i) Convergence to x= -1.\n",
    "\n",
    "    ii) Convergence to x= 0.\n",
    "\n",
    "    iii) Convergence to x= 1.\n",
    "\n",
    "    iv) Convince yourself that there is bounded but non-convergent behavior by finding a fixed point where $g(g(x)) = x$ but $g(x) \\neq x$. Find the relevant value(s) of $x$. Can you observe this behavior using your numerical iteration code? Why or why not?  "
   ]
  },
  {
   "cell_type": "code",
   "execution_count": 53,
   "metadata": {},
   "outputs": [],
   "source": [
    "initials = np.linspace(-5 ,5, 100)\n",
    "tol = 1e-6\n",
    "max_iter = 100\n",
    "\n",
    "results = np.empty(initials.size)\n",
    "for i, x0 in enumerate(initials):\n",
    "    results[i] = newton(x0, tol, max_iter)"
   ]
  },
  {
   "cell_type": "code",
   "execution_count": 55,
   "metadata": {},
   "outputs": [
    {
     "data": {
      "text/plain": [
       "Text(0, 0.5, 'convergence value')"
      ]
     },
     "execution_count": 55,
     "metadata": {},
     "output_type": "execute_result"
    },
    {
     "data": {
      "image/png": "[encoded data removed]",
      "text/plain": [
       "<Figure size 432x288 with 1 Axes>"
      ]
     },
     "metadata": {
      "needs_background": "light"
     },
     "output_type": "display_data"
    }
   ],
   "source": [
    "plt.scatter(initials, results)\n",
    "plt.xlabel('initial value')\n",
    "plt.ylabel('convergence value')"
   ]
  },
  {
   "cell_type": "markdown",
   "metadata": {},
   "source": [
    "From the plot we can clearly see that initial values near 0 converges to 0, while initial values smaller than around -0.5 converges to -1, and initial values larger than around 0.5 converges to 1."
   ]
  },
  {
   "cell_type": "markdown",
   "metadata": {},
   "source": [
    "For the last question, we try to visualize the output values after 0(initial), 1, 2 newton method iteration:"
   ]
  },
  {
   "cell_type": "code",
   "execution_count": 56,
   "metadata": {},
   "outputs": [],
   "source": [
    "one_iter = np.empty(initials.size)\n",
    "two_iter = np.empty(initials.size)\n",
    "for i, x0 in enumerate(initials):\n",
    "    one_iter[i] = newton_one_iter(x0)\n",
    "    two_iter[i] = newton_one_iter(one_iter[i])"
   ]
  },
  {
   "cell_type": "code",
   "execution_count": 63,
   "metadata": {},
   "outputs": [
    {
     "data": {
      "text/plain": [
       "Text(0, 0.5, 'output value')"
      ]
     },
     "execution_count": 63,
     "metadata": {},
     "output_type": "execute_result"
    },
    {
     "data": {
      "image/png": "[encoded data removed]",
      "text/plain": [
       "<Figure size 432x288 with 1 Axes>"
      ]
     },
     "metadata": {
      "needs_background": "light"
     },
     "output_type": "display_data"
    }
   ],
   "source": [
    "plt.plot(initials, initials, label='initial value')\n",
    "plt.plot(initials, one_iter, label='one iteration')\n",
    "plt.plot(initials, two_iter, label='two iteration')\n",
    "plt.xlim(-2, 2)\n",
    "plt.legend()\n",
    "plt.xlabel('initial value')\n",
    "plt.ylabel('output value')"
   ]
  },
  {
   "cell_type": "markdown",
   "metadata": {},
   "source": [
    "We can see from the plot that there are 4 initial values around -0.5 and 0.5, where the output of double iteration is the same as the initial value but different from the output of single iteration. This means these 4 initial values show periodic behaviors, as they come back to the initial values every two iterations, which are bounded but non-convergent behavior."
   ]
  },
  {
   "cell_type": "markdown",
   "metadata": {},
   "source": [
    "**4) Parallelize your code from Problem 3 using ```numba``` as follows:**\n",
    "\n",
    "    a) Convert your function to a device function.\n",
    "    \n",
    "    b) Instead of using a loop, launch a kernel function and store your results in a device array.\n",
    "    \n",
    "    c) Copy the array back to the host and check that it coincides with the serial version.\n",
    "    \n",
    "    d) Plot the results and the difference between the serial and parallel versions."
   ]
  },
  {
   "cell_type": "code",
   "execution_count": 70,
   "metadata": {},
   "outputs": [],
   "source": [
    "@cuda.jit(device=True)\n",
    "def d_newton(x0, tol, max_iter):\n",
    "    x1 = 0\n",
    "    for i in range(max_iter):\n",
    "        x1 = x0 - (x0**3-x0)/(3*x0**2-1)\n",
    "        if abs(x1-x0) < tol:\n",
    "            break\n",
    "        x0 = x1\n",
    "    return x1"
   ]
  },
  {
   "cell_type": "code",
   "execution_count": 71,
   "metadata": {},
   "outputs": [],
   "source": [
    "@cuda.jit\n",
    "def kernel(d_out, d_initials, tol, max_iter):\n",
    "    size = d_initials.size\n",
    "    i = cuda.grid(1)\n",
    "    if i < size:\n",
    "        d_out[i] = d_newton(d_initials[i], tol, max_iter)"
   ]
  },
  {
   "cell_type": "code",
   "execution_count": 72,
   "metadata": {},
   "outputs": [],
   "source": [
    "N = initials.size\n",
    "TPB = 32\n",
    "BPG = (N-1)//TPB + 1\n",
    "d_out = cuda.device_array(initials.size)\n",
    "kernel[BPG, TPB](d_out, cuda.to_device(initials), tol, max_iter)\n",
    "out = d_out.copy_to_host()"
   ]
  },
  {
   "cell_type": "markdown",
   "metadata": {},
   "source": [
    "We check and find that the paralleled results coincides with the serial results:"
   ]
  },
  {
   "cell_type": "code",
   "execution_count": 75,
   "metadata": {},
   "outputs": [
    {
     "data": {
      "text/plain": [
       "0.0"
      ]
     },
     "execution_count": 75,
     "metadata": {},
     "output_type": "execute_result"
    }
   ],
   "source": [
    "np.max(np.abs(out-results))"
   ]
  },
  {
   "cell_type": "markdown",
   "metadata": {},
   "source": [
    "Plot the paralleled results:"
   ]
  },
  {
   "cell_type": "code",
   "execution_count": 77,
   "metadata": {},
   "outputs": [
    {
     "data": {
      "text/plain": [
       "Text(0, 0.5, 'convergence value')"
      ]
     },
     "execution_count": 77,
     "metadata": {},
     "output_type": "execute_result"
    },
    {
     "data": {
      "image/png": "[encoded data removed]",
      "text/plain": [
       "<Figure size 432x288 with 1 Axes>"
      ]
     },
     "metadata": {
      "needs_background": "light"
     },
     "output_type": "display_data"
    }
   ],
   "source": [
    "plt.scatter(initials, out)\n",
    "plt.xlabel('initial value')\n",
    "plt.ylabel('convergence value')"
   ]
  },
  {
   "cell_type": "markdown",
   "metadata": {},
   "source": [
    "Plot the difference between the serial and parallel results:"
   ]
  },
  {
   "cell_type": "code",
   "execution_count": 79,
   "metadata": {},
   "outputs": [
    {
     "data": {
      "text/plain": [
       "Text(0, 0.5, 'difference between serial and parallel results')"
      ]
     },
     "execution_count": 79,
     "metadata": {},
     "output_type": "execute_result"
    },
    {
     "data": {
      "image/png": "[encoded data removed]",
      "text/plain": [
       "<Figure size 432x288 with 1 Axes>"
      ]
     },
     "metadata": {
      "needs_background": "light"
     },
     "output_type": "display_data"
    }
   ],
   "source": [
    "plt.scatter(initials, out-results)\n",
    "plt.xlabel('initial value')\n",
    "plt.ylabel('difference between serial and parallel results')"
   ]
  },
  {
   "cell_type": "markdown",
   "metadata": {},
   "source": [
    "**5) Shorghofer problem 4.5 which corresponds to Newton's method applied to the complex function $f(z) = z^3 - 1$. Again, obtain the difference equation by hand and rewrite it as a pair of difference equations (or a difference equation for a vector of length 2 with real components $x$ and $y$). The notebook you submit should include both code for a serial implementation using nested ```for()``` loops and the requested plot**"
   ]
  },
  {
   "cell_type": "markdown",
   "metadata": {},
   "source": [
    "Simplify the complex iteration"
   ]
  },
  {
   "cell_type": "markdown",
   "metadata": {},
   "source": [
    "\\begin{align}\n",
    "x'+y'j &= x+yj - \\frac{(x+yj)^3-1}{3(x+yj)^2} \\\\\n",
    "&= x+yj - \\frac{(x+yj)(x^2-y^2+2xyj)-1}{3(x^2-y^2+2xyj)} \\\\\n",
    "&= x+yj - \\frac{(x^3-3xy^2-1)+(3x^2y-y^3)j}{3(x^2-y^2)+6xyj} \\\\\n",
    "&= x+yj - \\frac{a+bj}{c+dj}\n",
    "\\end{align}"
   ]
  },
  {
   "cell_type": "markdown",
   "metadata": {},
   "source": [
    "Then we can write two iterations for real and imaginary part"
   ]
  },
  {
   "cell_type": "markdown",
   "metadata": {},
   "source": [
    "\\begin{align}\n",
    "x' = x - \\frac{ac+bd}{c^2+d^2} \\\\\n",
    "y' = y - \\frac{bc+ad}{c^2+d^2}\n",
    "\\end{align}"
   ]
  },
  {
   "cell_type": "markdown",
   "metadata": {},
   "source": [
    "Notice:  \n",
    "1) There can me numerical problem when $c^2+d^2 \\to 0$. We avoid this problem by stopping the iteration and return to the previous position.  \n",
    "2) The requested resolution (0.002) requires too much memory for my GPU card. I choose a larger resolution 0.004 instead, yet the plots still show good quality and the behavior we want.  \n",
    "3) We use `pyplot.imshow()` for plotting. We have to manipulate the result matrix and the plot to produce a normal-looking complex plane."
   ]
  },
  {
   "cell_type": "code",
   "execution_count": 2,
   "metadata": {},
   "outputs": [],
   "source": [
    "def complex_newton(x, y):\n",
    "    for i in range(2000):\n",
    "        a = x**3-3*x*y**2 - 1\n",
    "        b = 3*x**2*y - y**3\n",
    "        c = 3 * (x**2-y**2)\n",
    "        d = 6 * x * y\n",
    "        de = c**2 + d**2\n",
    "        if de == 0:\n",
    "            break\n",
    "        else:\n",
    "            x = x - (a*c+b*d) / de\n",
    "            y = y - (b*c-a*d) / de\n",
    "    return x, y"
   ]
  },
  {
   "cell_type": "code",
   "execution_count": 3,
   "metadata": {},
   "outputs": [],
   "source": [
    "N = 501\n",
    "axis = np.linspace(-1, 1, N)\n",
    "tol = 1e-6\n",
    "x = np.empty((N, N))\n",
    "y = np.empty((N, N))\n",
    "for i in range(N):\n",
    "    for j in range(N):\n",
    "        x1, y1 = complex_newton(axis[i], axis[j])\n",
    "        x[i, j] = x1\n",
    "        y[i, j] = y1"
   ]
  },
  {
   "cell_type": "code",
   "execution_count": 4,
   "metadata": {},
   "outputs": [
    {
     "data": {
      "text/plain": [
       "Text(0, 0.5, 'imaginary axis')"
      ]
     },
     "execution_count": 4,
     "metadata": {},
     "output_type": "execute_result"
    },
    {
     "data": {
      "image/png": "[encoded data removed]",
      "text/plain": [
       "<Figure size 432x288 with 1 Axes>"
      ]
     },
     "metadata": {
      "needs_background": "light"
     },
     "output_type": "display_data"
    }
   ],
   "source": [
    "grid = (np.square(1-x)+np.square(y)) < tol\n",
    "plt.imshow((1-grid).T, cmap='gray')\n",
    "plt.xticks(np.linspace(0, N-1, 5), np.linspace(-1, 1, 5))\n",
    "plt.yticks(np.linspace(0, N-1, 5), np.linspace(-1, 1, 5))\n",
    "plt.gca().invert_yaxis()\n",
    "plt.xlabel('real axis')\n",
    "plt.ylabel('imaginary axis')"
   ]
  },
  {
   "cell_type": "markdown",
   "metadata": {},
   "source": [
    "**6) Parallelize your code from Problem 5 using ```numba``` by converting your iteration to a device function and replacing the nested loops with a kernel function that launches a 2D computational grid. Test whether the 2D array of values produced by the kernel agress with the serial version. Present (briefly discuss) the results of the comparison of serial and parallel results.**"
   ]
  },
  {
   "cell_type": "code",
   "execution_count": 5,
   "metadata": {},
   "outputs": [],
   "source": [
    "@cuda.jit(device=True)\n",
    "def d_complex_newton_one_iter(x, y):\n",
    "    a = x**3-3*x*y**2 - 1\n",
    "    b = 3*x**2*y - y**3\n",
    "    c = 3 * (x**2-y**2)\n",
    "    d = 6 * x * y\n",
    "    de = c**2 + d**2\n",
    "    if de == 0:\n",
    "        return x, y\n",
    "    else:\n",
    "        x = x - (a*c+b*d) / de\n",
    "        y = y - (b*c-a*d) / de\n",
    "        return x, y"
   ]
  },
  {
   "cell_type": "code",
   "execution_count": 6,
   "metadata": {},
   "outputs": [],
   "source": [
    "@cuda.jit\n",
    "def complex_newton_kernel(d_axis, d_out_x, d_out_y):\n",
    "    N = d_axis.size\n",
    "    i, j = cuda.grid(2)\n",
    "    if i < N and j < N:\n",
    "        x0, y0 = d_axis[i], d_axis[j]\n",
    "        for t in range(2000):\n",
    "            x0, y0 = d_complex_newton_one_iter(x0, y0)\n",
    "        d_out_x[i, j] = x0\n",
    "        d_out_y[i, j] = y0"
   ]
  },
  {
   "cell_type": "code",
   "execution_count": 7,
   "metadata": {},
   "outputs": [],
   "source": [
    "TPB = 32\n",
    "BPG = (N-1)//TPB + 1\n",
    "d_out_x = cuda.device_array((N, N))\n",
    "d_out_y = cuda.device_array((N, N))\n",
    "complex_newton_kernel[(BPG, BPG), (TPB, TPB)](cuda.to_device(axis), d_out_x, d_out_y)\n",
    "out_x = d_out_x.copy_to_host()\n",
    "out_y = d_out_y.copy_to_host()"
   ]
  },
  {
   "cell_type": "markdown",
   "metadata": {},
   "source": [
    "We compare the parallel results and the serial results. We can see below that the maximum difference is around machine precision, which means the two results are acceptably the same."
   ]
  },
  {
   "cell_type": "code",
   "execution_count": 8,
   "metadata": {},
   "outputs": [
    {
     "name": "stdout",
     "output_type": "stream",
     "text": [
      "0.0\n",
      "1.1102230246251565e-16\n"
     ]
    }
   ],
   "source": [
    "# compare\n",
    "print(np.max(np.abs(out_x-x)))\n",
    "print(np.max(np.abs(out_y-y)))"
   ]
  },
  {
   "cell_type": "code",
   "execution_count": 9,
   "metadata": {},
   "outputs": [
    {
     "data": {
      "text/plain": [
       "Text(0, 0.5, 'imaginary axis')"
      ]
     },
     "execution_count": 9,
     "metadata": {},
     "output_type": "execute_result"
    },
    {
     "data": {
      "image/png": "[encoded data removed]",
      "text/plain": [
       "<Figure size 432x288 with 1 Axes>"
      ]
     },
     "metadata": {
      "needs_background": "light"
     },
     "output_type": "display_data"
    }
   ],
   "source": [
    "grid = (np.square(1-out_x)+np.square(out_y)) < tol\n",
    "plt.imshow((1-grid).T, cmap='gray')\n",
    "plt.xticks(np.linspace(0, N-1, 5), np.linspace(-1, 1, 5))\n",
    "plt.yticks(np.linspace(0, N-1, 5), np.linspace(-1, 1, 5))\n",
    "plt.gca().invert_yaxis()\n",
    "plt.xlabel('real axis')\n",
    "plt.ylabel('imaginary axis')"
   ]
  },
  {
   "cell_type": "code",
   "execution_count": null,
   "metadata": {},
   "outputs": [],
   "source": []
  }
 ],
 "metadata": {
  "kernelspec": {
   "display_name": "Python 3",
   "language": "python",
   "name": "python3"
  },
  "language_info": {
   "codemirror_mode": {
    "name": "ipython",
    "version": 3
   },
   "file_extension": ".py",
   "mimetype": "text/x-python",
   "name": "python",
   "nbconvert_exporter": "python",
   "pygments_lexer": "ipython3",
   "version": "3.7.1"
  }
 },
 "nbformat": 4,
 "nbformat_minor": 2
}
