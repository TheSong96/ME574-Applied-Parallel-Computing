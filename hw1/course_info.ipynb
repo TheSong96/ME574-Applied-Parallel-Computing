{
 "cells": [
  {
   "cell_type": "markdown",
   "metadata": {
    "slideshow": {
     "slide_type": "slide"
    }
   },
   "source": [
    "## ME 574 Spring Quarter 2020\n",
    "\n",
    "----\n",
    "\n",
    "# Introduction to Applied Parallel Computing for Engineers\n",
    "\n",
    "-------------\n",
    "\n",
    "Instructor: Prof. Duane Storti <storti@uw.edu> \n",
    "\n",
    "TAs: John Bartlett, Chris Uchytil\n",
    "\n",
    "Please use Canvas as the primary venue for questions that arise during the class, and be sure to check the class Canvas page regularly for announcements and updates.\n",
    "\n",
    "----"
   ]
  },
  {
   "cell_type": "markdown",
   "metadata": {
    "slideshow": {
     "slide_type": "fragment"
    }
   },
   "source": [
    "## Welcome to ME 574! \n",
    "\n",
    "This course aims to provide a significant hands-on computing experience focused on harnessing the power of the modern graphics processing unit (GPU) and applying that computing power to applications useful to engineers: computing and visualizing functions, computing derivatives and integrals, solving differential equations, etc. If you have a \"gaming\" laptop with a recent vintage CUDA-enabled NVIDIA GPU, you are actually in possession of a system that would have qualified as a supercomputer not so many years ago, and you will learn how to use that laptop in \"supercomputer\" mode in this course. If you do not have access to your own system with suitable hardware, you are NOT left out:\n",
    "\n",
    "1) You can develop your parallel code in \"simulation mode\" where your central processing unit (CPU) does a serial imitation of what your GPU would do in parellel.\n",
    "\n",
    "2) We will be part of a pilot project to test out cloud-based GPU computing capabilities. Please look for details about this in the not too distant future. We will need to use this resource responsibly to get the best \"bang for the buck\".\n",
    "\n",
    "For a bit more detail, here is the official course description:\n",
    "\n",
    "> Utilization of GPU-based parallel computing for engineering applications. Basics of hardware and software for GPU-based parallel computing. Introduction to GPU programming, language extensions, and interfaces. Introduction to parallel methods for numerical analysis and digital design. Applications in imaging, inspection, and computer-aided design. Hands-on experience creating GPU-powered parallel applications. Prerequisite: Introductory computing; graduate standing or permission of instructor; recommended: Some introductory computing experience and graduate standing in engineering"
   ]
  },
  {
   "cell_type": "markdown",
   "metadata": {
    "slideshow": {
     "slide_type": "fragment"
    }
   },
   "source": [
    "Note that the UW web site lists the class as meeting TTh 2:30-3:50 in Johnson 111 (which is an awesome classroom). However, as should all have heard by now, we will not be meeting in person this quarter. Given that fact, the course plan is intended to support virtual presentation.\n",
    "\n",
    "Here are some ways that we will strive to make \"virtual progress\";\n",
    "\n",
    "1) We will attempt some virtual sessions using Zoom meeting software, so:\n",
    "\n",
    "    a) You should be prepared to participate in regular class meetings at the scheduled times. \n",
    "    \n",
    "    b) You should also be prepared for doing more independent work on your own schedule and not always having virtual class at the scheduled time. \n",
    "\n",
    "    c) You should be prepared to engage with material presented in Jupyter notebooks.\n",
    "    \n",
    "    d) You should plan on focusing your efforts on homework assignments that build on the material presented in the notebooks.\n",
    "\n",
    "Note that this is a **hands-on** class. You should expect to spend a significant portion of your time and effort writing codes and assessing the effectiveness of those codes. \n",
    "\n",
    "The analogy to learning to play the piano is a good one: you should plan to dedicate significant time to being at the keyboard and ***\"playing the piano...\"!***"
   ]
  },
  {
   "cell_type": "markdown",
   "metadata": {
    "slideshow": {
     "slide_type": "slide"
    }
   },
   "source": [
    "Learning Objectives and Context\n",
    "===============================\n",
    "Hands-on experience with GPU-based parallel scientific computing\n",
    "\n",
    "Structured homework assignments\n",
    "\n",
    "Writing parallel code for engineering applications\n",
    "\n",
    "Evaluate the effectiveness or parallel codes\n",
    "\n",
    "Written presentation of your work\n",
    "\n",
    "Understand impact of GPU-based parallel computing"
   ]
  },
  {
   "cell_type": "markdown",
   "metadata": {
    "slideshow": {
     "slide_type": "slide"
    }
   },
   "source": [
    "Learning Outcomes\n",
    "================\n",
    "By the end of this course, students will demonstrate the ability to:\n",
    "\n",
    "* Write codes to implement common engineering computations.\n",
    "* Adapt codes to execute in parallel on the GPU.\n",
    "* Recognize operations that are likely to benefit from GPU-based parallelism.\n",
    "* Motivate the creation of a parallel computing application\n",
    "* Describe the approach to achieving parallelization\n",
    "* Present the results of the parallel algorithm/implementation in the context of engineering design and analysis.\n",
    "* Understanding of why GPU-based parallel computing timely and relevant"
   ]
  },
  {
   "cell_type": "markdown",
   "metadata": {
    "slideshow": {
     "slide_type": "slide"
    }
   },
   "source": [
    "Important software we plan to use in this class\n",
    "============================================\n",
    "\n",
    "* Python 3.7 – our “go to” programming language\n",
    "* CUDA – our system for accessing parallelism on the GPU\n",
    "* NumPy – essential Python library for scientific computing\n",
    "* Other python libraries: math, matplotlib, …\n",
    "* Numba – provides access to CUDA from Python\n",
    "* **Anaconda** (provides access to all of the above)\n",
    "* Word processor with syntax color coding\n",
    "    - Recommending __Visual Studio Code__ - includes terminal debugger, live share, etc.\n",
    "* Some C/C++ and/or Julia if time allows\n"
   ]
  },
  {
   "cell_type": "markdown",
   "metadata": {
    "slideshow": {
     "slide_type": "slide"
    }
   },
   "source": [
    "Planned Content (1) - Mostly recap for those who took ME535\n",
    "==============\n",
    "* Introduction to essential problems in scientific computing:\n",
    "    - Computation for discovery\n",
    "    - Representing numbers and computing with finite precision (types and sources of error)\n",
    "    - Basic approaches to typical applications:\n",
    "        - Function evaluation/visualization\n",
    "        - Rootfinding\n",
    "        - Ordinary differential equations\n",
    "        - Partial differential equations\n",
    "        - Numerical integration/quadrature\n",
    "    - Implementation in Python with numpy library (Why?)\n",
    "    - Exposure to libraries for linear algebra, FFTs, sorting, AI/ML\n"
   ]
  },
  {
   "cell_type": "markdown",
   "metadata": {
    "slideshow": {
     "slide_type": "slide"
    }
   },
   "source": [
    "Planned Content (2) - Shifting to the Parallel Paradigm\n",
    "==============\n",
    "* Introduction to GPU-based parallel computing\n",
    "    - Use numba library to access CUDA\n",
    "        - What is CUDA?\n",
    "        - Components of a CUDA-capable system\n",
    "        - APIs and language extensions\n",
    "        - SIMT model of parallelism\n",
    "    - Converting loops to grids (in dimensions 1, 2, and 3)\n",
    "    - Data handling: read, write, transfer \n",
    "    - Dealing with thread interaction"
   ]
  },
  {
   "cell_type": "markdown",
   "metadata": {
    "slideshow": {
     "slide_type": "slide"
    }
   },
   "source": [
    "Game Plan\n",
    "=========\n",
    "* Homeworks\n",
    "    - Get you up the learning curve\n",
    "    - Provide hands-on experience\n"
   ]
  },
  {
   "cell_type": "markdown",
   "metadata": {
    "slideshow": {
     "slide_type": "slide"
    }
   },
   "source": [
    "## Learning resources\n",
    "\n",
    "0) YouTube video series with a good \"from scratch\" introduction to python programming: __\"Python Tutorials for Absolute Beginners\" by CS Dojo__\n",
    "\n",
    "1) eBook on traditional scientific computing:\n",
    "\n",
    "**Lessons in Scientific Computing: Numerical Mathematics, Computer Technology, and Scientific Discovery** by Norbert Schorghofer, CRC Press, 2018 (available from UW libraries)\n"
   ]
  },
  {
   "cell_type": "markdown",
   "metadata": {},
   "source": [
    "2) eBook on GPU-computing (but not with numba)\n",
    "\n",
    "__Hands-on GPU programming with Python and CUDA : explore high-performance parallel computing with CUDA__ by Brian Tuomanen\n",
    "2018 Birmingham, UK : Packt Publishing Ltd"
   ]
  },
  {
   "cell_type": "markdown",
   "metadata": {
    "slideshow": {
     "slide_type": "subslide"
    }
   },
   "source": [
    "3) Parallelization with numba\n",
    "\n",
    "- ME 574 notebooks (to be posted as we progress though the class)\n",
    "- Numba documentation: http://numba.pydata.org/"
   ]
  },
  {
   "cell_type": "markdown",
   "metadata": {
    "slideshow": {
     "slide_type": "subslide"
    }
   },
   "source": [
    "4) Numerical MOOC Jupyter notebooks\n",
    "- **Practical Numerical Methods with Python!** by Barba, Cooper, Forsyth, Krishnan, 2014."
   ]
  },
  {
   "cell_type": "markdown",
   "metadata": {
    "slideshow": {
     "slide_type": "subslide"
    }
   },
   "source": [
    "## More learning resources\n",
    "\n",
    "5) Further info on CUDA:\n",
    "- **CUDA Toolkit Documentation** https://docs.nvidia.com/cuda/\n",
    "- **CUDA for Engineers: An Introduction to High-Performance Parallel Computing ** by Storti and Yurtoglu, Addison-Wesley, 2015.\n",
    "- **CUDA by Example** by Kandrot and Sanders, 2010.\n",
    "- **Programming Massively Parallel Processors: A Hands-on Approach** 3rd Edition, by Kirk and Hwu, Morgan Kaufmann, 2016.\n",
    "- **CUDA Handbook** by Wilt, Pearson, 2013.\n",
    "- https://developer.nvidia.com/cuda-zone including **Parallel for All** (a.k.a. $\"|| \\, \\forall\"$) blog and **GTC On-Demand**"
   ]
  },
  {
   "cell_type": "markdown",
   "metadata": {
    "slideshow": {
     "slide_type": "slide"
    }
   },
   "source": [
    "Computing Hardware\n",
    "=================\n",
    "\n",
    "Need access to CUDA-enabled system (with recent NVIDIA GPU)\n",
    "\n",
    "How many of you have laptop with NVIDIA graphics card? \n",
    "\n",
    "This is not yet standard at UW, so we are taking a parallel approach:\n",
    "\n",
    "    - Personal laptops\n",
    "    - Pilot testing of cloud-based GPU-enabled JupyterHub server"
   ]
  },
  {
   "cell_type": "markdown",
   "metadata": {
    "slideshow": {
     "slide_type": "slide"
    }
   },
   "source": [
    "## Appropriate behavior in this class\n",
    "\n",
    "Actively engage in coding: Not a spectator sport!\n",
    "\n",
    "Do the homeworks: Not just for grade. That is how you learn...\n",
    "\n",
    "Embody academic integrity:\n",
    "- Things submitted under your name **must** be your work!\n",
    "- You are encouraged to consult with classmates and other sources, but content from other sources **must** be identified/acknowledged/referenced"
   ]
  },
  {
   "cell_type": "markdown",
   "metadata": {
    "slideshow": {
     "slide_type": "slide"
    }
   },
   "source": [
    "### Grading scheme\n",
    "\n",
    "Grades will be based on about 6 homework assignments\n",
    "\n",
    "-----"
   ]
  },
  {
   "cell_type": "markdown",
   "metadata": {
    "slideshow": {
     "slide_type": "slide"
    }
   },
   "source": [
    "## Religious Accommodations\n",
    "\n",
    "“Washington state law requires that UW develop a policy for accommodation of student absences or significant hardship due to reasons of faith or conscience, or for organized religious activities. The UW’s policy, including more information about how to request an accommodation, is available at Religious Accommodations Policy (https://registrar.washington.edu/staffandfaculty/religious-accommodations-policy/). Accommodations must be requested within the first two weeks of this course using the Religious Accommodations Request form (https://registrar.washington.edu/students/religious-accommodations-request/).”\n",
    "\n",
    "----"
   ]
  },
  {
   "cell_type": "markdown",
   "metadata": {
    "slideshow": {
     "slide_type": "slide"
    }
   },
   "source": [
    "## A hint of what's ahead\n",
    "\n",
    "Here is some python code in action: computing the Mandebrot set (that you may have seen before) as the non-escaping points of a complex mapping/iteration/difference equation. Note how long it takes to do the computation..."
   ]
  },
  {
   "cell_type": "code",
   "execution_count": 2,
   "metadata": {},
   "outputs": [
    {
     "name": "stdout",
     "output_type": "stream",
     "text": [
      "It took 20.27305507659912 seconds to calculate the Mandelbrot graph.\n",
      "It took 0.1074988842010498 seconds to dump the image.\n"
     ]
    },
    {
     "data": {
      "image/png": "[encoded data removed]",
      "text/plain": [
       "<Figure size 432x288 with 1 Axes>"
      ]
     },
     "metadata": {
      "needs_background": "light"
     },
     "output_type": "display_data"
    }
   ],
   "source": [
    "from time import time\n",
    "import matplotlib\n",
    "#this will prevent the figure from popping up\n",
    "#matplotlib.use('Agg')\n",
    "\n",
    "from matplotlib import pyplot as plt\n",
    "import numpy as np\n",
    "\n",
    "\n",
    "def simple_mandelbrot(width, height, real_low, real_high, imag_low, imag_high, max_iters, upper_bound):\n",
    "    \n",
    "    real_vals = np.linspace(real_low, real_high, width)\n",
    "    imag_vals = np.linspace(imag_low, imag_high, height)\n",
    "        \n",
    "    # we will represent members as 1, non-members as 0.\n",
    "    \n",
    "    mandelbrot_graph = np.ones((height,width), dtype=np.float32)\n",
    "    \n",
    "    for x in range(width):\n",
    "        \n",
    "        for y in range(height):\n",
    "            \n",
    "            \n",
    "            c = np.complex64( real_vals[x] + imag_vals[y] * 1j  )            \n",
    "            z = np.complex64(0)\n",
    "            \n",
    "            for i in range(max_iters):\n",
    "                \n",
    "                z = z**2 + c\n",
    "                \n",
    "                if(np.abs(z) > upper_bound):\n",
    "                    mandelbrot_graph[y,x] = 0\n",
    "                    break\n",
    "                \n",
    "    return mandelbrot_graph\n",
    "\n",
    "\n",
    "if __name__ == '__main__':\n",
    "    \n",
    "    t1 = time()\n",
    "    mandel = simple_mandelbrot(512,512,-2,2,-2,2,256, 2.5)\n",
    "    t2 = time()\n",
    "    mandel_time = t2 - t1\n",
    "    \n",
    "    t1 = time()\n",
    "    fig = plt.figure(1)\n",
    "    plt.imshow(mandel, extent=(-2, 2, -2, 2))\n",
    "    plt.savefig('mandelbrot.png', dpi=fig.dpi)\n",
    "    t2 = time()\n",
    "    \n",
    "    dump_time = t2 - t1\n",
    "    \n",
    "    print('It took {} seconds to calculate the Mandelbrot graph.'.format(mandel_time))\n",
    "    print('It took {} seconds to dump the image.'.format(dump_time))\n"
   ]
  },
  {
   "cell_type": "markdown",
   "metadata": {},
   "source": [
    "![mandelbrot](mandelbrot.png \"The Mandelbrot Set\")"
   ]
  }
 ],
 "metadata": {
  "celltoolbar": "Slideshow",
  "kernelspec": {
   "display_name": "Python 3",
   "language": "python",
   "name": "python3"
  },
  "language_info": {
   "codemirror_mode": {
    "name": "ipython",
    "version": 3
   },
   "file_extension": ".py",
   "mimetype": "text/x-python",
   "name": "python",
   "nbconvert_exporter": "python",
   "pygments_lexer": "ipython3",
   "version": "3.7.4"
  }
 },
 "nbformat": 4,
 "nbformat_minor": 4
}
