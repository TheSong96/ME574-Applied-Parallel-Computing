{
 "cells": [
  {
   "cell_type": "markdown",
   "metadata": {},
   "source": [
    "### ME 574 Winter 2019 Homework 3:  Due Thursday 14 February 2019\n",
    "\n",
    "Submit your work by uploading a Jupyter notebook via Canvas.\n",
    "Make sure that executing your notebook produces the intended results!"
   ]
  },
  {
   "cell_type": "markdown",
   "metadata": {},
   "source": [
    "1) Consider serial evaluation of the integral $I = \\int_{0}^{1} \\frac{dx}{x^2 + 1}$.\n",
    "\n",
    "a) Determine the exact value of the integral.\n",
    "\n",
    "b) Create a serial implementation of the trapezoidal rule and use it to compute numerical values for $I$ based on a uniformly sampled grid of function values with spacing $h = 10^{-n} \\textrm{for} \\, n \\in {[1,2,3]}$. Present a log-log plot of error vs $h$ and, based on your plotted data, provide a numerical value for the order of convergence of the trapezoidal rule.\n",
    "\n",
    "c) Repeat part b using Simpson's rule instead of the trapezoidal rule.\n",
    "\n",
    "\n",
    "***"
   ]
  },
  {
   "cell_type": "markdown",
   "metadata": {},
   "source": [
    "2) Consider parallel evaluation of the same integral $I$ from Problem 1.\n",
    "\n",
    "a) Parallelize your implementation of Simpson's rule as follows:\n",
    "\n",
    "Use a kernel function to compute the required array of function values in parallel.\n",
    "\n",
    "Use another kernel function to compute an array of stencil contributions.\n",
    "\n",
    "Use a numba reduction to sum the stencil contributions to provide the numerical value of the integral.\n",
    "\n",
    "b) Use the parallel implementation to make another version of your plot from part 1c with $n \\in {[2,4,6,8]}$. Discuss your plot and explain salient features.\n",
    "\n",
    "***"
   ]
  },
  {
   "cell_type": "markdown",
   "metadata": {},
   "source": [
    "3) Consider the initial value problem (IVP) defined by the  differential equation $y'(t) = -10 y(t)$ with intial condition $y(0)=1$.\n",
    "\n",
    "a) Implement the Explicit Euler method and use it to compute and plot numerical solutions of the IVP on $0 \\leq t \\leq 4$ with stepsize $h = 1,  .1, .01, .001$ . Briefly discuss salient features of your plots. How small must the stepsize be to prevent oscillatory artifacts (i.e. instability) from arising?\n",
    "\n",
    "b) Compute and plot the \"global\" error in your numerical solutions, and produce a plot/fit to determine the order of the method.\n",
    "\n",
    "c) Consider a simple \"predictor-corrector\" approach as follows: Compute each step in the solution by computing a \"predicted value\" using forward Euler and then computing a \"corrected\" value using the implicit Euler method (plugging in the prediction as the value of $y_{n+1}$ in the backward Euler formula). Implement the predictor-corrector scheme, compute the global error for several stepsizes, and determine the order of the method."
   ]
  },
  {
   "cell_type": "code",
   "execution_count": null,
   "metadata": {},
   "outputs": [],
   "source": []
  }
 ],
 "metadata": {
  "kernelspec": {
   "display_name": "Python 3",
   "language": "python",
   "name": "python3"
  },
  "language_info": {
   "codemirror_mode": {
    "name": "ipython",
    "version": 3
   },
   "file_extension": ".py",
   "mimetype": "text/x-python",
   "name": "python",
   "nbconvert_exporter": "python",
   "pygments_lexer": "ipython3",
   "version": "3.7.1"
  }
 },
 "nbformat": 4,
 "nbformat_minor": 2
}
