{
 "cells": [
  {
   "cell_type": "markdown",
   "metadata": {
    "slideshow": {
     "slide_type": "fragment"
    }
   },
   "source": [
    "### ME 574 Winter 2019 Homework 1\n",
    "### Due Friday 18 January 2018\n",
    "\n",
    "Submit your work by uploading a Jupyter notebook via Canvas.\n",
    "Make sure that executing your notebook produces the intended results!\n",
    "\n",
    "\n",
    "1) \n",
    "a)Create a python procedure corresponding to the mathematical function $g(x) = 2 \\, sin(x) \\, cos(x)$. (How do you access trig functions in python? Google is your help menu. Go exploring.) \n",
    "\n",
    "b) Create a numpy array of function values with uniform spacing $\\delta x = 0.1$ on $0 \\leq x \\leq \\pi$.\n",
    "\n",
    "c) Plot your data to produce a visualization of $g(x)$. \n",
    "\n",
    "d) Does the function look familiar? Explain briefly.\n",
    "\n",
    "2) Shorghofer Problem 2.1 (interpreting \"prove\" as \"explain why\"). Discuss the implications of your result for part d.\n",
    "\n",
    "3) Adapt your code from class to determine values of $\\beta$ (called $r$ in the book) for at least 4 period doublings. Based on your $\\beta$ values, determine an estimate for Feigenbaum's universal scaling ratio.\n",
    "\n",
    "4) \n",
    "a) Write a python function to implement the typical version of the quadratic formula. The function should return a 2-tuple of values sorted by magnitude. \n",
    "\n",
    "b) Use your function to compute the solutions of the quadratic equation $x^2-(r + \\frac{1}{r}) x +1 = 0$.\n",
    "\n",
    "c) Factor the quadratic polynomial analytically. What are the exact roots in terms of the parameter $r$?\n",
    "\n",
    "d) Use your implementation of the quadratic formula to compute the roots for $r = 2^n$ for $1 \\leq n \\leq 16$.\n",
    "\n",
    "e) Compare the computed values with the known exact values. Describe situations where a root is inaccurately computed. Which root(s) exhibit problems? Why? What causes the problems?\n",
    "\n",
    "f) Implement the alternate version of the quadratic formula discussed in Shorghofer Section 3.3, then recompute the roots for the same set of values of $r$. Compare the outcome to your results from parts c-e and discuss. Which implementation is preferred and why?\n",
    "\n",
    "5) Do Shorghofer's Problem 3.3 and include an example you constructed to where your implementation works while the naive version fails.\n",
    "\n"
   ]
  },
  {
   "cell_type": "code",
   "execution_count": null,
   "metadata": {},
   "outputs": [],
   "source": []
  }
 ],
 "metadata": {
  "kernelspec": {
   "display_name": "Python 3",
   "language": "python",
   "name": "python3"
  },
  "language_info": {
   "codemirror_mode": {
    "name": "ipython",
    "version": 3
   },
   "file_extension": ".py",
   "mimetype": "text/x-python",
   "name": "python",
   "nbconvert_exporter": "python",
   "pygments_lexer": "ipython3",
   "version": "3.7.1"
  }
 },
 "nbformat": 4,
 "nbformat_minor": 2
}
