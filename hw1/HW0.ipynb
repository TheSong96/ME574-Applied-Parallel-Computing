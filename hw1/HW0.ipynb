{
 "cells": [
  {
   "cell_type": "markdown",
   "metadata": {
    "slideshow": {
     "slide_type": "slide"
    }
   },
   "source": [
    "## ME 574 Spring Quarter 2020 - Homework 0\n",
    "\n",
    "You are encouraged to get started on this as soon as you can!\n",
    "\n",
    "-------------\n",
    "\n"
   ]
  },
  {
   "cell_type": "markdown",
   "metadata": {
    "slideshow": {
     "slide_type": "slide"
    }
   },
   "source": [
    "0) Fill out the the \"Pre-course informational survey\" so we can learn more about the background of the students in the class and try to tailor the content appropriately.\n",
    "\n",
    "1) Download and install Anaconda software from https://www.anaconda.com/download/\n",
    "\n",
    "2) If you are not already familiar with python, find some instructional videos to help you get started. IF you would like a suggestion, check out the following series of YouTube videos: <br>\n",
    "__\"Python Tutorials for Absolute Beginners\" by CS Dojo__ \n",
    "\n",
    "Whenever possible, adopt an active learning style; don't just watch the videos but open up a python session and \"play along\". That way you are likely to learn more and remember it better.\n",
    "\n",
    ">What is the URL for the videos, you might ask? Well, you should get used to thinking of your web search tools as your source for details and documentation; enter the info provided above into your favorite search engine and you should find the link semi-immediately.\n",
    "\n",
    "3) Read Chapters 1-3 in Shorghofer. (They are short!) Think about the brainteaser at end of Ch. 1 and discuss with classmates. (Virtually, of course! This might be a good chance to practice communicating via Zoom.)"
   ]
  },
  {
   "cell_type": "code",
   "execution_count": null,
   "metadata": {},
   "outputs": [],
   "source": []
  }
 ],
 "metadata": {
  "celltoolbar": "Slideshow",
  "kernelspec": {
   "display_name": "Python 3",
   "language": "python",
   "name": "python3"
  },
  "language_info": {
   "codemirror_mode": {
    "name": "ipython",
    "version": 3
   },
   "file_extension": ".py",
   "mimetype": "text/x-python",
   "name": "python",
   "nbconvert_exporter": "python",
   "pygments_lexer": "ipython3",
   "version": "3.7.4"
  }
 },
 "nbformat": 4,
 "nbformat_minor": 4
}
